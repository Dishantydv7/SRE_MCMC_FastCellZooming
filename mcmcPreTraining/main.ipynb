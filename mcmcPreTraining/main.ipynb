{
 "cells": [
  {
   "cell_type": "code",
   "execution_count": 1,
   "metadata": {},
   "outputs": [
    {
     "data": {
      "text/plain": [
       "4"
      ]
     },
     "execution_count": 1,
     "metadata": {},
     "output_type": "execute_result"
    }
   ],
   "source": [
    "2+2"
   ]
  },
  {
   "cell_type": "code",
   "execution_count": 16,
   "metadata": {},
   "outputs": [],
   "source": [
    "import numpy as np\n",
    "import matplotlib.pyplot as plt\n",
    "from scipy.spatial.distance import cdist\n",
    "from matplotlib.colors import ListedColormap\n",
    "from matplotlib.patches import Circle\n",
    "import math\n",
    "from scipy import optimize\n",
    "from scipy.optimize import fsolve\n",
    "import random\n",
    "import csv\n",
    "import os\n",
    "import seaborn as sns\n",
    "import time\n",
    "from numba import njit\n",
    "import json\n",
    "import pandas as pd"
   ]
  },
  {
   "cell_type": "markdown",
   "metadata": {},
   "source": [
    "#### Base station Placement Grid Points "
   ]
  },
  {
   "cell_type": "code",
   "execution_count": 18,
   "metadata": {},
   "outputs": [
    {
     "name": "stdout",
     "output_type": "stream",
     "text": [
      "Base station locations generated and saved to base_station_locations.csv\n",
      "Number of base stations: 80\n"
     ]
    }
   ],
   "source": [
    "\n",
    "# Simulation area and number of base stations\n",
    "rows = 200\n",
    "cols = 200\n",
    "num_base_stations = 80\n",
    "\n",
    "# Generate fixed, random coordinates for the 80 base stations\n",
    "np.random.seed(42) # for reproducibility\n",
    "bs_coords = np.random.randint(0, [rows, cols], size=(num_base_stations, 2))\n",
    "\n",
    "# Save base station coordinates to a CSV file\n",
    "bs_df = pd.DataFrame(bs_coords, columns=['x', 'y'])\n",
    "bs_df.to_csv(\"base_station_locations.csv\", index=False)\n",
    "\n",
    "print(\"Base station locations generated and saved to base_station_locations.csv\")\n",
    "print(\"Number of base stations:\", num_base_stations)"
   ]
  },
  {
   "cell_type": "code",
   "execution_count": null,
   "metadata": {},
   "outputs": [],
   "source": []
  }
 ],
 "metadata": {
  "kernelspec": {
   "display_name": ".venv",
   "language": "python",
   "name": "python3"
  },
  "language_info": {
   "codemirror_mode": {
    "name": "ipython",
    "version": 3
   },
   "file_extension": ".py",
   "mimetype": "text/x-python",
   "name": "python",
   "nbconvert_exporter": "python",
   "pygments_lexer": "ipython3",
   "version": "3.10.12"
  }
 },
 "nbformat": 4,
 "nbformat_minor": 2
}
